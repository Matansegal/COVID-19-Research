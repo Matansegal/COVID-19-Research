{
 "cells": [
  {
   "cell_type": "code",
   "execution_count": 1,
   "metadata": {},
   "outputs": [],
   "source": [
    "import pandas as pd\n",
    "import numpy as np\n",
    "import json\n",
    "import os\n",
    "from pprint import pprint\n",
    "import glob\n",
    "from functools import lru_cache\n",
    "\n",
    "import matplotlib.pyplot as plt\n",
    "import seaborn as sns\n",
    "sns.set_style('whitegrid')\n",
    "%matplotlib inline"
   ]
  },
  {
   "cell_type": "code",
   "execution_count": 2,
   "metadata": {},
   "outputs": [
    {
     "name": "stdout",
     "output_type": "stream",
     "text": [
      "CORD-19-Topic-Modeling.ipynb  ldavisualization_50.html\r\n",
      "CORD-19_BERT_clustering.ipynb subset_corpus\r\n",
      "\u001b[34mCORD_DATA\u001b[m\u001b[m                     subset_corpus.npy\r\n",
      "README.md                     subset_corpus.pkl\r\n",
      "ldavisualization_50\r\n"
     ]
    }
   ],
   "source": [
    "!ls"
   ]
  },
  {
   "cell_type": "code",
   "execution_count": 3,
   "metadata": {},
   "outputs": [
    {
     "data": {
      "text/html": [
       "<div>\n",
       "<style scoped>\n",
       "    .dataframe tbody tr th:only-of-type {\n",
       "        vertical-align: middle;\n",
       "    }\n",
       "\n",
       "    .dataframe tbody tr th {\n",
       "        vertical-align: top;\n",
       "    }\n",
       "\n",
       "    .dataframe thead th {\n",
       "        text-align: right;\n",
       "    }\n",
       "</style>\n",
       "<table border=\"1\" class=\"dataframe\">\n",
       "  <thead>\n",
       "    <tr style=\"text-align: right;\">\n",
       "      <th></th>\n",
       "      <th>cord_uid</th>\n",
       "      <th>sha</th>\n",
       "      <th>source_x</th>\n",
       "      <th>title</th>\n",
       "      <th>doi</th>\n",
       "      <th>pmcid</th>\n",
       "      <th>pubmed_id</th>\n",
       "      <th>license</th>\n",
       "      <th>abstract</th>\n",
       "      <th>publish_time</th>\n",
       "      <th>authors</th>\n",
       "      <th>journal</th>\n",
       "      <th>Microsoft Academic Paper ID</th>\n",
       "      <th>WHO #Covidence</th>\n",
       "      <th>has_full_text</th>\n",
       "      <th>full_text_file</th>\n",
       "      <th>url</th>\n",
       "    </tr>\n",
       "  </thead>\n",
       "  <tbody>\n",
       "    <tr>\n",
       "      <th>0</th>\n",
       "      <td>vho70jcx</td>\n",
       "      <td>f056da9c64fbf00a4645ae326e8a4339d015d155</td>\n",
       "      <td>biorxiv</td>\n",
       "      <td>SIANN: Strain Identification by Alignment to N...</td>\n",
       "      <td>10.1101/001727</td>\n",
       "      <td>NaN</td>\n",
       "      <td>NaN</td>\n",
       "      <td>biorxiv</td>\n",
       "      <td>Next-generation sequencing is increasingly bei...</td>\n",
       "      <td>2014-01-10</td>\n",
       "      <td>Samuel Minot; Stephen D Turner; Krista L Ternu...</td>\n",
       "      <td>NaN</td>\n",
       "      <td>NaN</td>\n",
       "      <td>NaN</td>\n",
       "      <td>True</td>\n",
       "      <td>biorxiv_medrxiv</td>\n",
       "      <td>https://doi.org/10.1101/001727</td>\n",
       "    </tr>\n",
       "    <tr>\n",
       "      <th>1</th>\n",
       "      <td>i9tbix2v</td>\n",
       "      <td>daf32e013d325a6feb80e83d15aabc64a48fae33</td>\n",
       "      <td>biorxiv</td>\n",
       "      <td>Spatial epidemiology of networked metapopulati...</td>\n",
       "      <td>10.1101/003889</td>\n",
       "      <td>NaN</td>\n",
       "      <td>NaN</td>\n",
       "      <td>biorxiv</td>\n",
       "      <td>An emerging disease is one infectious epidemic...</td>\n",
       "      <td>2014-06-04</td>\n",
       "      <td>Lin WANG; Xiang Li</td>\n",
       "      <td>NaN</td>\n",
       "      <td>NaN</td>\n",
       "      <td>NaN</td>\n",
       "      <td>True</td>\n",
       "      <td>biorxiv_medrxiv</td>\n",
       "      <td>https://doi.org/10.1101/003889</td>\n",
       "    </tr>\n",
       "    <tr>\n",
       "      <th>2</th>\n",
       "      <td>62gfisc6</td>\n",
       "      <td>f33c6d94b0efaa198f8f3f20e644625fa3fe10d2</td>\n",
       "      <td>biorxiv</td>\n",
       "      <td>Sequencing of the human IG light chain loci fr...</td>\n",
       "      <td>10.1101/006866</td>\n",
       "      <td>NaN</td>\n",
       "      <td>NaN</td>\n",
       "      <td>biorxiv</td>\n",
       "      <td>Germline variation at immunoglobulin gene (IG)...</td>\n",
       "      <td>2014-07-03</td>\n",
       "      <td>Corey T Watson; Karyn Meltz Steinberg; Tina A ...</td>\n",
       "      <td>NaN</td>\n",
       "      <td>NaN</td>\n",
       "      <td>NaN</td>\n",
       "      <td>True</td>\n",
       "      <td>biorxiv_medrxiv</td>\n",
       "      <td>https://doi.org/10.1101/006866</td>\n",
       "    </tr>\n",
       "    <tr>\n",
       "      <th>3</th>\n",
       "      <td>058r9486</td>\n",
       "      <td>4da8a87e614373d56070ed272487451266dce919</td>\n",
       "      <td>biorxiv</td>\n",
       "      <td>Bayesian mixture analysis for metagenomic comm...</td>\n",
       "      <td>10.1101/007476</td>\n",
       "      <td>NaN</td>\n",
       "      <td>NaN</td>\n",
       "      <td>biorxiv</td>\n",
       "      <td>Deep sequencing of clinical samples is now an ...</td>\n",
       "      <td>2014-07-25</td>\n",
       "      <td>Sofia Morfopoulou; Vincent Plagnol</td>\n",
       "      <td>NaN</td>\n",
       "      <td>NaN</td>\n",
       "      <td>NaN</td>\n",
       "      <td>True</td>\n",
       "      <td>biorxiv_medrxiv</td>\n",
       "      <td>https://doi.org/10.1101/007476</td>\n",
       "    </tr>\n",
       "    <tr>\n",
       "      <th>4</th>\n",
       "      <td>wich35l7</td>\n",
       "      <td>eccef80cfbe078235df22398f195d5db462d8000</td>\n",
       "      <td>biorxiv</td>\n",
       "      <td>Mapping a viral phylogeny onto outbreak trees ...</td>\n",
       "      <td>10.1101/010389</td>\n",
       "      <td>NaN</td>\n",
       "      <td>NaN</td>\n",
       "      <td>biorxiv</td>\n",
       "      <td>Developing methods to reconstruct transmission...</td>\n",
       "      <td>2014-11-11</td>\n",
       "      <td>Stephen P Velsko; Jonathan E Allen</td>\n",
       "      <td>NaN</td>\n",
       "      <td>NaN</td>\n",
       "      <td>NaN</td>\n",
       "      <td>True</td>\n",
       "      <td>biorxiv_medrxiv</td>\n",
       "      <td>https://doi.org/10.1101/010389</td>\n",
       "    </tr>\n",
       "  </tbody>\n",
       "</table>\n",
       "</div>"
      ],
      "text/plain": [
       "   cord_uid                                       sha source_x  \\\n",
       "0  vho70jcx  f056da9c64fbf00a4645ae326e8a4339d015d155  biorxiv   \n",
       "1  i9tbix2v  daf32e013d325a6feb80e83d15aabc64a48fae33  biorxiv   \n",
       "2  62gfisc6  f33c6d94b0efaa198f8f3f20e644625fa3fe10d2  biorxiv   \n",
       "3  058r9486  4da8a87e614373d56070ed272487451266dce919  biorxiv   \n",
       "4  wich35l7  eccef80cfbe078235df22398f195d5db462d8000  biorxiv   \n",
       "\n",
       "                                               title             doi pmcid  \\\n",
       "0  SIANN: Strain Identification by Alignment to N...  10.1101/001727   NaN   \n",
       "1  Spatial epidemiology of networked metapopulati...  10.1101/003889   NaN   \n",
       "2  Sequencing of the human IG light chain loci fr...  10.1101/006866   NaN   \n",
       "3  Bayesian mixture analysis for metagenomic comm...  10.1101/007476   NaN   \n",
       "4  Mapping a viral phylogeny onto outbreak trees ...  10.1101/010389   NaN   \n",
       "\n",
       "   pubmed_id  license                                           abstract  \\\n",
       "0        NaN  biorxiv  Next-generation sequencing is increasingly bei...   \n",
       "1        NaN  biorxiv  An emerging disease is one infectious epidemic...   \n",
       "2        NaN  biorxiv  Germline variation at immunoglobulin gene (IG)...   \n",
       "3        NaN  biorxiv  Deep sequencing of clinical samples is now an ...   \n",
       "4        NaN  biorxiv  Developing methods to reconstruct transmission...   \n",
       "\n",
       "  publish_time                                            authors journal  \\\n",
       "0   2014-01-10  Samuel Minot; Stephen D Turner; Krista L Ternu...     NaN   \n",
       "1   2014-06-04                                 Lin WANG; Xiang Li     NaN   \n",
       "2   2014-07-03  Corey T Watson; Karyn Meltz Steinberg; Tina A ...     NaN   \n",
       "3   2014-07-25                 Sofia Morfopoulou; Vincent Plagnol     NaN   \n",
       "4   2014-11-11                 Stephen P Velsko; Jonathan E Allen     NaN   \n",
       "\n",
       "   Microsoft Academic Paper ID WHO #Covidence  has_full_text   full_text_file  \\\n",
       "0                          NaN            NaN           True  biorxiv_medrxiv   \n",
       "1                          NaN            NaN           True  biorxiv_medrxiv   \n",
       "2                          NaN            NaN           True  biorxiv_medrxiv   \n",
       "3                          NaN            NaN           True  biorxiv_medrxiv   \n",
       "4                          NaN            NaN           True  biorxiv_medrxiv   \n",
       "\n",
       "                              url  \n",
       "0  https://doi.org/10.1101/001727  \n",
       "1  https://doi.org/10.1101/003889  \n",
       "2  https://doi.org/10.1101/006866  \n",
       "3  https://doi.org/10.1101/007476  \n",
       "4  https://doi.org/10.1101/010389  "
      ]
     },
     "execution_count": 3,
     "metadata": {},
     "output_type": "execute_result"
    }
   ],
   "source": [
    "#read in metadata\n",
    "root_dir = './CORD_DATA/'\n",
    "metadata_path = root_dir + 'metadata.csv'\n",
    "metadata = pd.read_csv(metadata_path)\n",
    "\n",
    "metadata.head()"
   ]
  },
  {
   "cell_type": "markdown",
   "metadata": {},
   "source": [
    "### Read Data Into Dataframes"
   ]
  },
  {
   "cell_type": "code",
   "execution_count": 4,
   "metadata": {},
   "outputs": [
    {
     "name": "stdout",
     "output_type": "stream",
     "text": [
      "['./CORD_DATA/biorxiv_medrxiv/biorxiv_medrxiv/pdf_json/f905f78b32f63c6d14a79984dfb33f1b358b8ab4.json',\n",
      " './CORD_DATA/biorxiv_medrxiv/biorxiv_medrxiv/pdf_json/607e0074d8ff40c272b958c2fe48793fedfc785e.json',\n",
      " './CORD_DATA/biorxiv_medrxiv/biorxiv_medrxiv/pdf_json/7cfaa2540d3c8eea0982b3b1147884f125f67ff2.json',\n",
      " './CORD_DATA/biorxiv_medrxiv/biorxiv_medrxiv/pdf_json/abcfffafab399149d4adadd6bb458c4994e2025d.json',\n",
      " './CORD_DATA/biorxiv_medrxiv/biorxiv_medrxiv/pdf_json/0cb9c296684ca5e71462d825cab2827854a01544.json',\n",
      " './CORD_DATA/biorxiv_medrxiv/biorxiv_medrxiv/pdf_json/9bbfd3d34ee18ea1b9f4669331a6cee9c5992893.json',\n",
      " './CORD_DATA/biorxiv_medrxiv/biorxiv_medrxiv/pdf_json/1218f278a4f8d83dac14b23c8f698062812ef9d5.json',\n",
      " './CORD_DATA/biorxiv_medrxiv/biorxiv_medrxiv/pdf_json/a59906b732bf4a489e282c3e4f499d4166c622e7.json',\n",
      " './CORD_DATA/biorxiv_medrxiv/biorxiv_medrxiv/pdf_json/baabfb35a321ea12028160e0d2c1552a2fda2dd5.json',\n",
      " './CORD_DATA/biorxiv_medrxiv/biorxiv_medrxiv/pdf_json/240da1ff435355a853d5c830f78751aff5f51fd1.json']\n",
      "Total biorxiv_medrxiv_files: 1342\n",
      "Total comm_use_subset_files: 18360\n",
      "Total noncomm_use_subset_files: 4470\n",
      "Total files: 24172\n",
      "CPU times: user 55.7 ms, sys: 26.1 ms, total: 81.8 ms\n",
      "Wall time: 80.4 ms\n"
     ]
    }
   ],
   "source": [
    "%%time\n",
    "#DATA DIRECTORIES\n",
    "        \n",
    "biorxiv_medrxiv    = root_dir + 'biorxiv_medrxiv/biorxiv_medrxiv/'\n",
    "comm_use_subset    = root_dir + 'comm_use_subset/comm_use_subset/'\n",
    "noncomm_use_subset = root_dir + 'noncomm_use_subset/noncomm_use_subset/'\n",
    "\n",
    "search_params = biorxiv_medrxiv + '**/*.json'\n",
    "biorxiv_medrxiv_files       = glob.glob(search_params)\n",
    "search_params = comm_use_subset + '**/*.json'\n",
    "comm_use_subset_files       = glob.glob(search_params)\n",
    "search_params = noncomm_use_subset + '**/*.json'\n",
    "noncomm_use_subset_files    = glob.glob(search_params)\n",
    "\n",
    "pprint(biorxiv_medrxiv_files[:10])\n",
    "print('Total biorxiv_medrxiv_files: {}'.format(len(biorxiv_medrxiv_files)))\n",
    "print('Total comm_use_subset_files: {}'.format(len(comm_use_subset_files)))\n",
    "print('Total noncomm_use_subset_files: {}'.format(len(noncomm_use_subset_files)))\n",
    "print('Total files: {}'.format(len(biorxiv_medrxiv_files) + len(comm_use_subset_files) + len(noncomm_use_subset_files)))"
   ]
  },
  {
   "cell_type": "code",
   "execution_count": 5,
   "metadata": {},
   "outputs": [],
   "source": [
    "'''\n",
    "    @Desc    : Reads in json article and converts into Pandas Dataframe\n",
    "    @Params  : filepath (str)\n",
    "    @Returns : Pandas Dataframe \n",
    "'''\n",
    "\n",
    "def JsonToDataFrame(filepath):\n",
    "        \n",
    "    #read json into dict\n",
    "    with open(filepath) as json_data:\n",
    "        data = json.load(json_data)\n",
    "        \n",
    "        paper_id = data['paper_id']\n",
    "        abstract = '\\n'.join([section['text'] for section in data['abstract']])\n",
    "\n",
    "        \n",
    "\n",
    "        final_data = {\n",
    "            'paper_id'  : [data['paper_id']],\n",
    "            'section'   : ['abstract'],\n",
    "            'text'  : ['\\n'.join([section['text'] for section in data['abstract']])]                                       \n",
    "        }\n",
    "        \n",
    "        df = pd.DataFrame.from_dict(final_data)\n",
    "        for section in data['body_text']:\n",
    "            df = df.append({\n",
    "                'paper_id' : data['paper_id'],\n",
    "                'section'  : section['section'],\n",
    "                'text'     : section['text']\n",
    "            }, ignore_index=True)\n",
    "            \n",
    "        return df "
   ]
  },
  {
   "cell_type": "code",
   "execution_count": 6,
   "metadata": {},
   "outputs": [
    {
     "name": "stdout",
     "output_type": "stream",
     "text": [
      "Count of files with issues: 0\n",
      "CPU times: user 2min 14s, sys: 8.29 s, total: 2min 22s\n",
      "Wall time: 3min 4s\n"
     ]
    }
   ],
   "source": [
    "%%time\n",
    "import concurrent\n",
    "#initialize dfs\n",
    "biomed_df      = pd.DataFrame()\n",
    "comm_use_df    = pd.DataFrame()\n",
    "noncomm_use_df = pd.DataFrame()\n",
    "\n",
    "count = 0\n",
    "\n",
    "def to_df(file):\n",
    "    try:\n",
    "        return JsonToDataFrame(file)\n",
    "    except:\n",
    "        global count \n",
    "        count += 1\n",
    "        return None\n",
    "\n",
    "with concurrent.futures.ProcessPoolExecutor() as executor:\n",
    "        for _, df in zip(biorxiv_medrxiv_files, executor.map(to_df, biorxiv_medrxiv_files)):\n",
    "            if df is not None:\n",
    "                biomed_df = biomed_df.append(df, ignore_index=True)\n",
    "            \n",
    "with concurrent.futures.ProcessPoolExecutor() as executor:\n",
    "        for _, df in zip(comm_use_subset_files, executor.map(to_df, comm_use_subset_files)):\n",
    "            if df is not None:\n",
    "                comm_use_df = comm_use_df.append(df, ignore_index=True)\n",
    "            \n",
    "with concurrent.futures.ProcessPoolExecutor() as executor:\n",
    "        for _, df in zip(noncomm_use_subset_files, executor.map(to_df, noncomm_use_subset_files)):\n",
    "            if df is not None:\n",
    "                noncomm_use_df = noncomm_use_df.append(df, ignore_index=True)\n",
    "            \n",
    "print('Count of files with issues: {}'.format(count))\n",
    "full_corpus = pd.concat([biomed_df, comm_use_df, noncomm_use_df])"
   ]
  },
  {
   "cell_type": "code",
   "execution_count": 7,
   "metadata": {},
   "outputs": [
    {
     "name": "stdout",
     "output_type": "stream",
     "text": [
      "(432691, 3)\n"
     ]
    },
    {
     "data": {
      "text/html": [
       "<div>\n",
       "<style scoped>\n",
       "    .dataframe tbody tr th:only-of-type {\n",
       "        vertical-align: middle;\n",
       "    }\n",
       "\n",
       "    .dataframe tbody tr th {\n",
       "        vertical-align: top;\n",
       "    }\n",
       "\n",
       "    .dataframe thead th {\n",
       "        text-align: right;\n",
       "    }\n",
       "</style>\n",
       "<table border=\"1\" class=\"dataframe\">\n",
       "  <thead>\n",
       "    <tr style=\"text-align: right;\">\n",
       "      <th></th>\n",
       "      <th>paper_id</th>\n",
       "      <th>section</th>\n",
       "      <th>text</th>\n",
       "    </tr>\n",
       "  </thead>\n",
       "  <tbody>\n",
       "    <tr>\n",
       "      <th>0</th>\n",
       "      <td>f905f78b32f63c6d14a79984dfb33f1b358b8ab4</td>\n",
       "      <td>abstract</td>\n",
       "      <td>New anti-AIDS treatments must be continually d...</td>\n",
       "    </tr>\n",
       "    <tr>\n",
       "      <th>1</th>\n",
       "      <td>f905f78b32f63c6d14a79984dfb33f1b358b8ab4</td>\n",
       "      <td></td>\n",
       "      <td>In the absence of a curative treatment, the hi...</td>\n",
       "    </tr>\n",
       "    <tr>\n",
       "      <th>2</th>\n",
       "      <td>f905f78b32f63c6d14a79984dfb33f1b358b8ab4</td>\n",
       "      <td></td>\n",
       "      <td>Tetramers of IN are formed by the reciprocal s...</td>\n",
       "    </tr>\n",
       "    <tr>\n",
       "      <th>3</th>\n",
       "      <td>f905f78b32f63c6d14a79984dfb33f1b358b8ab4</td>\n",
       "      <td></td>\n",
       "      <td>Hindering the assembly of IN functional multim...</td>\n",
       "    </tr>\n",
       "    <tr>\n",
       "      <th>4</th>\n",
       "      <td>f905f78b32f63c6d14a79984dfb33f1b358b8ab4</td>\n",
       "      <td></td>\n",
       "      <td>Based on the structure of Fab specific to IN C...</td>\n",
       "    </tr>\n",
       "  </tbody>\n",
       "</table>\n",
       "</div>"
      ],
      "text/plain": [
       "                                   paper_id   section  \\\n",
       "0  f905f78b32f63c6d14a79984dfb33f1b358b8ab4  abstract   \n",
       "1  f905f78b32f63c6d14a79984dfb33f1b358b8ab4             \n",
       "2  f905f78b32f63c6d14a79984dfb33f1b358b8ab4             \n",
       "3  f905f78b32f63c6d14a79984dfb33f1b358b8ab4             \n",
       "4  f905f78b32f63c6d14a79984dfb33f1b358b8ab4             \n",
       "\n",
       "                                                text  \n",
       "0  New anti-AIDS treatments must be continually d...  \n",
       "1  In the absence of a curative treatment, the hi...  \n",
       "2  Tetramers of IN are formed by the reciprocal s...  \n",
       "3  Hindering the assembly of IN functional multim...  \n",
       "4  Based on the structure of Fab specific to IN C...  "
      ]
     },
     "execution_count": 7,
     "metadata": {},
     "output_type": "execute_result"
    }
   ],
   "source": [
    "print(full_corpus.shape)\n",
    "full_corpus.head()"
   ]
  },
  {
   "cell_type": "code",
   "execution_count": 8,
   "metadata": {},
   "outputs": [
    {
     "data": {
      "text/plain": [
       "Discussion                                             38758\n",
       "Introduction                                           22111\n",
       "                                                       14154\n",
       "abstract                                               13084\n",
       "Results                                                10229\n",
       "                                                       ...  \n",
       "Nsp14                                                      1\n",
       "392!                                                       1\n",
       "MERS-CoV shedding in bats inoculated with MERS-CoV.        1\n",
       "Determinants of psychological distress                     1\n",
       "MATERIAL AND METHODS Cohort description                    1\n",
       "Name: section, Length: 89867, dtype: int64"
      ]
     },
     "execution_count": 8,
     "metadata": {},
     "output_type": "execute_result"
    }
   ],
   "source": [
    "full_corpus['section'].value_counts()"
   ]
  },
  {
   "cell_type": "code",
   "execution_count": 9,
   "metadata": {},
   "outputs": [
    {
     "name": "stdout",
     "output_type": "stream",
     "text": [
      "CPU times: user 8.93 s, sys: 259 ms, total: 9.19 s\n",
      "Wall time: 9.19 s\n"
     ]
    }
   ],
   "source": [
    "%%time\n",
    "import re\n",
    "import string\n",
    "\n",
    "punct_table = str.maketrans('', '', string.punctuation)\n",
    "\n",
    "#remove punctuation\n",
    "full_corpus['text'] = full_corpus['text'].map(lambda x: x.translate(punct_table))\n",
    "\n",
    "#convert to lowercase\n",
    "full_corpus['text'] = full_corpus['text'].map(lambda x: x.lower())"
   ]
  },
  {
   "cell_type": "code",
   "execution_count": 10,
   "metadata": {},
   "outputs": [
    {
     "data": {
      "text/html": [
       "<div>\n",
       "<style scoped>\n",
       "    .dataframe tbody tr th:only-of-type {\n",
       "        vertical-align: middle;\n",
       "    }\n",
       "\n",
       "    .dataframe tbody tr th {\n",
       "        vertical-align: top;\n",
       "    }\n",
       "\n",
       "    .dataframe thead th {\n",
       "        text-align: right;\n",
       "    }\n",
       "</style>\n",
       "<table border=\"1\" class=\"dataframe\">\n",
       "  <thead>\n",
       "    <tr style=\"text-align: right;\">\n",
       "      <th></th>\n",
       "      <th>paper_id</th>\n",
       "      <th>section</th>\n",
       "      <th>text</th>\n",
       "    </tr>\n",
       "  </thead>\n",
       "  <tbody>\n",
       "    <tr>\n",
       "      <th>0</th>\n",
       "      <td>f905f78b32f63c6d14a79984dfb33f1b358b8ab4</td>\n",
       "      <td>abstract</td>\n",
       "      <td>new antiaids treatments must be continually de...</td>\n",
       "    </tr>\n",
       "    <tr>\n",
       "      <th>1</th>\n",
       "      <td>f905f78b32f63c6d14a79984dfb33f1b358b8ab4</td>\n",
       "      <td></td>\n",
       "      <td>in the absence of a curative treatment the hig...</td>\n",
       "    </tr>\n",
       "    <tr>\n",
       "      <th>2</th>\n",
       "      <td>f905f78b32f63c6d14a79984dfb33f1b358b8ab4</td>\n",
       "      <td></td>\n",
       "      <td>tetramers of in are formed by the reciprocal s...</td>\n",
       "    </tr>\n",
       "    <tr>\n",
       "      <th>3</th>\n",
       "      <td>f905f78b32f63c6d14a79984dfb33f1b358b8ab4</td>\n",
       "      <td></td>\n",
       "      <td>hindering the assembly of in functional multim...</td>\n",
       "    </tr>\n",
       "    <tr>\n",
       "      <th>4</th>\n",
       "      <td>f905f78b32f63c6d14a79984dfb33f1b358b8ab4</td>\n",
       "      <td></td>\n",
       "      <td>based on the structure of fab specific to in c...</td>\n",
       "    </tr>\n",
       "  </tbody>\n",
       "</table>\n",
       "</div>"
      ],
      "text/plain": [
       "                                   paper_id   section  \\\n",
       "0  f905f78b32f63c6d14a79984dfb33f1b358b8ab4  abstract   \n",
       "1  f905f78b32f63c6d14a79984dfb33f1b358b8ab4             \n",
       "2  f905f78b32f63c6d14a79984dfb33f1b358b8ab4             \n",
       "3  f905f78b32f63c6d14a79984dfb33f1b358b8ab4             \n",
       "4  f905f78b32f63c6d14a79984dfb33f1b358b8ab4             \n",
       "\n",
       "                                                text  \n",
       "0  new antiaids treatments must be continually de...  \n",
       "1  in the absence of a curative treatment the hig...  \n",
       "2  tetramers of in are formed by the reciprocal s...  \n",
       "3  hindering the assembly of in functional multim...  \n",
       "4  based on the structure of fab specific to in c...  "
      ]
     },
     "execution_count": 10,
     "metadata": {},
     "output_type": "execute_result"
    }
   ],
   "source": [
    "full_corpus.head()"
   ]
  },
  {
   "cell_type": "code",
   "execution_count": 11,
   "metadata": {},
   "outputs": [
    {
     "data": {
      "text/plain": [
       "0        new antiaids treatments must be continually de...\n",
       "1        in the absence of a curative treatment the hig...\n",
       "2        tetramers of in are formed by the reciprocal s...\n",
       "3        hindering the assembly of in functional multim...\n",
       "4        based on the structure of fab specific to in c...\n",
       "                               ...                        \n",
       "77381    it is easy to pontificate and write pages of p...\n",
       "77382    only then can we see the shortcomings of human...\n",
       "77383    the numerous missteps misspeaks and misdeeds o...\n",
       "77384            financial disclosure none funding support\n",
       "77385    none conflicts of interest no authors have fin...\n",
       "Name: text, Length: 432691, dtype: object"
      ]
     },
     "execution_count": 11,
     "metadata": {},
     "output_type": "execute_result"
    }
   ],
   "source": [
    "full_corpus['text']"
   ]
  },
  {
   "cell_type": "code",
   "execution_count": 12,
   "metadata": {},
   "outputs": [
    {
     "data": {
      "text/html": [
       "<div>\n",
       "<style scoped>\n",
       "    .dataframe tbody tr th:only-of-type {\n",
       "        vertical-align: middle;\n",
       "    }\n",
       "\n",
       "    .dataframe tbody tr th {\n",
       "        vertical-align: top;\n",
       "    }\n",
       "\n",
       "    .dataframe thead th {\n",
       "        text-align: right;\n",
       "    }\n",
       "</style>\n",
       "<table border=\"1\" class=\"dataframe\">\n",
       "  <thead>\n",
       "    <tr style=\"text-align: right;\">\n",
       "      <th></th>\n",
       "      <th>paper_id</th>\n",
       "      <th>section</th>\n",
       "      <th>text</th>\n",
       "    </tr>\n",
       "  </thead>\n",
       "  <tbody>\n",
       "    <tr>\n",
       "      <th>count</th>\n",
       "      <td>432691</td>\n",
       "      <td>432691</td>\n",
       "      <td>432691</td>\n",
       "    </tr>\n",
       "    <tr>\n",
       "      <th>unique</th>\n",
       "      <td>13084</td>\n",
       "      <td>89867</td>\n",
       "      <td>413954</td>\n",
       "    </tr>\n",
       "    <tr>\n",
       "      <th>top</th>\n",
       "      <td>ce6717ad3bb0da86077a5cbb8111576ea8230b2c</td>\n",
       "      <td>Discussion</td>\n",
       "      <td></td>\n",
       "    </tr>\n",
       "    <tr>\n",
       "      <th>freq</th>\n",
       "      <td>2022</td>\n",
       "      <td>38758</td>\n",
       "      <td>1908</td>\n",
       "    </tr>\n",
       "  </tbody>\n",
       "</table>\n",
       "</div>"
      ],
      "text/plain": [
       "                                        paper_id     section    text\n",
       "count                                     432691      432691  432691\n",
       "unique                                     13084       89867  413954\n",
       "top     ce6717ad3bb0da86077a5cbb8111576ea8230b2c  Discussion        \n",
       "freq                                        2022       38758    1908"
      ]
     },
     "execution_count": 12,
     "metadata": {},
     "output_type": "execute_result"
    }
   ],
   "source": [
    "full_corpus.describe()"
   ]
  },
  {
   "cell_type": "code",
   "execution_count": 14,
   "metadata": {},
   "outputs": [
    {
     "name": "stdout",
     "output_type": "stream",
     "text": [
      "[nltk_data] Downloading package stopwords to\n",
      "[nltk_data]     /Users/clayharper/nltk_data...\n",
      "[nltk_data]   Package stopwords is already up-to-date!\n",
      "CPU times: user 32.2 s, sys: 473 ms, total: 32.7 s\n",
      "Wall time: 32.7 s\n"
     ]
    }
   ],
   "source": [
    "%%time\n",
    "import nltk\n",
    "nltk.download('stopwords')\n",
    "from nltk.corpus import stopwords\n",
    "from sklearn.feature_extraction.text import CountVectorizer\n",
    "\n",
    "stopwords = list(stopwords.words('english')) + ['et', 'al'] + [str(year) for year in range(1999,2020)]\n",
    "#transfrom data into Bag-Of-Words Representation\n",
    "count_vectorizer = CountVectorizer(stop_words=stopwords)\n",
    "\n",
    "bag_of_words = count_vectorizer.fit_transform(full_corpus['text'])"
   ]
  },
  {
   "cell_type": "code",
   "execution_count": 15,
   "metadata": {},
   "outputs": [
    {
     "name": "stdout",
     "output_type": "stream",
     "text": [
      "Unique words: 633162 \n"
     ]
    }
   ],
   "source": [
    "print(\"Unique words: {} \".format(len(count_vectorizer.get_feature_names())))"
   ]
  },
  {
   "cell_type": "code",
   "execution_count": 16,
   "metadata": {},
   "outputs": [
    {
     "data": {
      "text/html": [
       "<div>\n",
       "<style scoped>\n",
       "    .dataframe tbody tr th:only-of-type {\n",
       "        vertical-align: middle;\n",
       "    }\n",
       "\n",
       "    .dataframe tbody tr th {\n",
       "        vertical-align: top;\n",
       "    }\n",
       "\n",
       "    .dataframe thead th {\n",
       "        text-align: right;\n",
       "    }\n",
       "</style>\n",
       "<table border=\"1\" class=\"dataframe\">\n",
       "  <thead>\n",
       "    <tr style=\"text-align: right;\">\n",
       "      <th></th>\n",
       "      <th>paper_id</th>\n",
       "      <th>section</th>\n",
       "      <th>text</th>\n",
       "    </tr>\n",
       "  </thead>\n",
       "  <tbody>\n",
       "    <tr>\n",
       "      <th>0</th>\n",
       "      <td>f905f78b32f63c6d14a79984dfb33f1b358b8ab4</td>\n",
       "      <td>abstract</td>\n",
       "      <td>new antiaids treatments must be continually de...</td>\n",
       "    </tr>\n",
       "    <tr>\n",
       "      <th>1</th>\n",
       "      <td>f905f78b32f63c6d14a79984dfb33f1b358b8ab4</td>\n",
       "      <td></td>\n",
       "      <td>in the absence of a curative treatment the hig...</td>\n",
       "    </tr>\n",
       "    <tr>\n",
       "      <th>2</th>\n",
       "      <td>f905f78b32f63c6d14a79984dfb33f1b358b8ab4</td>\n",
       "      <td></td>\n",
       "      <td>tetramers of in are formed by the reciprocal s...</td>\n",
       "    </tr>\n",
       "    <tr>\n",
       "      <th>3</th>\n",
       "      <td>f905f78b32f63c6d14a79984dfb33f1b358b8ab4</td>\n",
       "      <td></td>\n",
       "      <td>hindering the assembly of in functional multim...</td>\n",
       "    </tr>\n",
       "    <tr>\n",
       "      <th>4</th>\n",
       "      <td>f905f78b32f63c6d14a79984dfb33f1b358b8ab4</td>\n",
       "      <td></td>\n",
       "      <td>based on the structure of fab specific to in c...</td>\n",
       "    </tr>\n",
       "  </tbody>\n",
       "</table>\n",
       "</div>"
      ],
      "text/plain": [
       "                                   paper_id   section  \\\n",
       "0  f905f78b32f63c6d14a79984dfb33f1b358b8ab4  abstract   \n",
       "1  f905f78b32f63c6d14a79984dfb33f1b358b8ab4             \n",
       "2  f905f78b32f63c6d14a79984dfb33f1b358b8ab4             \n",
       "3  f905f78b32f63c6d14a79984dfb33f1b358b8ab4             \n",
       "4  f905f78b32f63c6d14a79984dfb33f1b358b8ab4             \n",
       "\n",
       "                                                text  \n",
       "0  new antiaids treatments must be continually de...  \n",
       "1  in the absence of a curative treatment the hig...  \n",
       "2  tetramers of in are formed by the reciprocal s...  \n",
       "3  hindering the assembly of in functional multim...  \n",
       "4  based on the structure of fab specific to in c...  "
      ]
     },
     "execution_count": 16,
     "metadata": {},
     "output_type": "execute_result"
    }
   ],
   "source": [
    "full_corpus.head()"
   ]
  },
  {
   "cell_type": "code",
   "execution_count": 17,
   "metadata": {},
   "outputs": [
    {
     "name": "stdout",
     "output_type": "stream",
     "text": [
      "CPU times: user 3.15 s, sys: 7.88 ms, total: 3.16 s\n",
      "Wall time: 3.16 s\n"
     ]
    }
   ],
   "source": [
    "%%time\n",
    "# Show distribution of word counts in each paper\n",
    "full_corpus['Number of Words'] = full_corpus['text'].map(lambda x: len(x.split()))"
   ]
  },
  {
   "cell_type": "code",
   "execution_count": 17,
   "metadata": {},
   "outputs": [
    {
     "data": {
      "image/png": "[encoded data removed]",
      "text/plain": [
       "<Figure size 432x288 with 1 Axes>"
      ]
     },
     "metadata": {},
     "output_type": "display_data"
    }
   ],
   "source": [
    "sns.distplot(full_corpus['Number of Words'],kde=False, bins=[0, 300, 500, 1000, 3000, 5000, 8000], rug=True)\n",
    "plt.ylabel('Frequency', fontsize=16)\n",
    "plt.xlabel('Number of Words', fontsize=16)\n",
    "plt.yscale('log')\n",
    "plt.show()"
   ]
  },
  {
   "cell_type": "code",
   "execution_count": 18,
   "metadata": {},
   "outputs": [
    {
     "name": "stdout",
     "output_type": "stream",
     "text": [
      "Total amount with fewer than or equal to 512 tokens: 427440\n",
      "Percentage of total data: 0.99\n"
     ]
    }
   ],
   "source": [
    "below_512 = sum((full_corpus['Number of Words']<=512))\n",
    "above_512 = sum((full_corpus['Number of Words']>512))\n",
    "\n",
    "assert (below_512 + above_512) == full_corpus.shape[0]\n",
    "print('Total amount with fewer than or equal to 512 tokens: {}'.format(below_512))\n",
    "print('Percentage of total data: {:.2f}'.format(below_512/full_corpus.shape[0]))"
   ]
  },
  {
   "cell_type": "markdown",
   "metadata": {},
   "source": [
    "We can see that many documents have less than 512 words.  This is important in using BERT.  We have a limit on how many words the BERT model can take as inputs (512 tokens), and documents with more words see a performance decrease with BERT. "
   ]
  },
  {
   "cell_type": "markdown",
   "metadata": {},
   "source": [
    "For the time being, I am only going to look at documents with 512 tokens or fewer.  In the future, this will need to change because a substantial amount of our subset has more than 512 tokens."
   ]
  },
  {
   "cell_type": "code",
   "execution_count": 19,
   "metadata": {},
   "outputs": [
    {
     "name": "stdout",
     "output_type": "stream",
     "text": [
      "(427440, 4)\n"
     ]
    },
    {
     "data": {
      "text/html": [
       "<div>\n",
       "<style scoped>\n",
       "    .dataframe tbody tr th:only-of-type {\n",
       "        vertical-align: middle;\n",
       "    }\n",
       "\n",
       "    .dataframe tbody tr th {\n",
       "        vertical-align: top;\n",
       "    }\n",
       "\n",
       "    .dataframe thead th {\n",
       "        text-align: right;\n",
       "    }\n",
       "</style>\n",
       "<table border=\"1\" class=\"dataframe\">\n",
       "  <thead>\n",
       "    <tr style=\"text-align: right;\">\n",
       "      <th></th>\n",
       "      <th>paper_id</th>\n",
       "      <th>section</th>\n",
       "      <th>text</th>\n",
       "      <th>Number of Words</th>\n",
       "    </tr>\n",
       "  </thead>\n",
       "  <tbody>\n",
       "    <tr>\n",
       "      <th>0</th>\n",
       "      <td>f905f78b32f63c6d14a79984dfb33f1b358b8ab4</td>\n",
       "      <td>abstract</td>\n",
       "      <td>new antiaids treatments must be continually de...</td>\n",
       "      <td>123</td>\n",
       "    </tr>\n",
       "    <tr>\n",
       "      <th>1</th>\n",
       "      <td>f905f78b32f63c6d14a79984dfb33f1b358b8ab4</td>\n",
       "      <td></td>\n",
       "      <td>in the absence of a curative treatment the hig...</td>\n",
       "      <td>193</td>\n",
       "    </tr>\n",
       "    <tr>\n",
       "      <th>2</th>\n",
       "      <td>f905f78b32f63c6d14a79984dfb33f1b358b8ab4</td>\n",
       "      <td></td>\n",
       "      <td>tetramers of in are formed by the reciprocal s...</td>\n",
       "      <td>133</td>\n",
       "    </tr>\n",
       "    <tr>\n",
       "      <th>3</th>\n",
       "      <td>f905f78b32f63c6d14a79984dfb33f1b358b8ab4</td>\n",
       "      <td></td>\n",
       "      <td>hindering the assembly of in functional multim...</td>\n",
       "      <td>265</td>\n",
       "    </tr>\n",
       "    <tr>\n",
       "      <th>4</th>\n",
       "      <td>f905f78b32f63c6d14a79984dfb33f1b358b8ab4</td>\n",
       "      <td></td>\n",
       "      <td>based on the structure of fab specific to in c...</td>\n",
       "      <td>70</td>\n",
       "    </tr>\n",
       "  </tbody>\n",
       "</table>\n",
       "</div>"
      ],
      "text/plain": [
       "                                   paper_id   section  \\\n",
       "0  f905f78b32f63c6d14a79984dfb33f1b358b8ab4  abstract   \n",
       "1  f905f78b32f63c6d14a79984dfb33f1b358b8ab4             \n",
       "2  f905f78b32f63c6d14a79984dfb33f1b358b8ab4             \n",
       "3  f905f78b32f63c6d14a79984dfb33f1b358b8ab4             \n",
       "4  f905f78b32f63c6d14a79984dfb33f1b358b8ab4             \n",
       "\n",
       "                                                text  Number of Words  \n",
       "0  new antiaids treatments must be continually de...              123  \n",
       "1  in the absence of a curative treatment the hig...              193  \n",
       "2  tetramers of in are formed by the reciprocal s...              133  \n",
       "3  hindering the assembly of in functional multim...              265  \n",
       "4  based on the structure of fab specific to in c...               70  "
      ]
     },
     "execution_count": 19,
     "metadata": {},
     "output_type": "execute_result"
    }
   ],
   "source": [
    "# Dropping rows that have more than 512 tokens\n",
    "subset_corpus = full_corpus[full_corpus['Number of Words'] <= 512]\n",
    "assert (max(subset_corpus['Number of Words'])) == 512\n",
    "print(subset_corpus.shape)\n",
    "subset_corpus.head()"
   ]
  },
  {
   "cell_type": "markdown",
   "metadata": {},
   "source": [
    "## Generate BERT Embeddings"
   ]
  },
  {
   "cell_type": "markdown",
   "metadata": {},
   "source": [
    "For this section, I had trouble running on my local machine.  Having to switch to colab to run bert embeddings.  I am saving the pandas df subset_corpus so that I can easily load it in colab."
   ]
  },
  {
   "cell_type": "markdown",
   "metadata": {},
   "source": [
    "## Cluster Embeddings"
   ]
  },
  {
   "cell_type": "markdown",
   "metadata": {},
   "source": [
    "### Expectation-Maximization using GMMs Clustering"
   ]
  },
  {
   "cell_type": "code",
   "execution_count": 20,
   "metadata": {},
   "outputs": [],
   "source": [
    "# https://jakevdp.github.io/PythonDataScienceHandbook/05.12-gaussian-mixtures.html\n",
    "from sklearn.mixture import GaussianMixture as GMM\n",
    "# gmm = GMM(n_components=4).fit(X)\n",
    "# labels = gmm.predict(X)\n",
    "# plt.scatter(X[:, 0], X[:, 1], c=labels, s=40, cmap='viridis')"
   ]
  },
  {
   "cell_type": "markdown",
   "metadata": {},
   "source": [
    "#### Find Best Number of Components"
   ]
  },
  {
   "cell_type": "code",
   "execution_count": 21,
   "metadata": {},
   "outputs": [],
   "source": [
    "# Find the knee in the graph"
   ]
  },
  {
   "cell_type": "markdown",
   "metadata": {},
   "source": [
    "### DBSCAN Clustering"
   ]
  },
  {
   "cell_type": "code",
   "execution_count": 22,
   "metadata": {},
   "outputs": [],
   "source": [
    "from sklearn.cluster import DBSCAN"
   ]
  },
  {
   "cell_type": "code",
   "execution_count": 23,
   "metadata": {},
   "outputs": [],
   "source": [
    "# dbscan_clustering = DBSCAN(eps=3, min_samples=15).fit(X)"
   ]
  },
  {
   "cell_type": "markdown",
   "metadata": {},
   "source": [
    "### Clustering Comparison using Silhouette Coefficients "
   ]
  },
  {
   "cell_type": "code",
   "execution_count": 24,
   "metadata": {},
   "outputs": [],
   "source": [
    "from sklearn.metrics import silhouette_score"
   ]
  },
  {
   "cell_type": "markdown",
   "metadata": {},
   "source": [
    "## UMAP Dimensionality Reduction"
   ]
  },
  {
   "cell_type": "markdown",
   "metadata": {},
   "source": [
    "## Cluster Visualization"
   ]
  },
  {
   "cell_type": "code",
   "execution_count": null,
   "metadata": {
    "collapsed": true
   },
   "outputs": [],
   "source": [
    "\n"
   ]
  }
 ],
 "metadata": {
  "kernelspec": {
   "display_name": "Python 3",
   "language": "python",
   "name": "python3"
  },
  "language_info": {
   "codemirror_mode": {
    "name": "ipython",
    "version": 3
   },
   "file_extension": ".py",
   "mimetype": "text/x-python",
   "name": "python",
   "nbconvert_exporter": "python",
   "pygments_lexer": "ipython3",
   "version": "3.6.1"
  }
 },
 "nbformat": 4,
 "nbformat_minor": 2
}
